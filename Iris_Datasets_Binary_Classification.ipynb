{
  "nbformat": 4,
  "nbformat_minor": 0,
  "metadata": {
    "colab": {
      "name": "Iris Datasets Binary Classification",
      "provenance": [],
      "collapsed_sections": [],
      "authorship_tag": "ABX9TyMriqHVPHoKwhCotiyuLzOv",
      "include_colab_link": true
    },
    "kernelspec": {
      "name": "python3",
      "display_name": "Python 3"
    }
  },
  "cells": [
    {
      "cell_type": "markdown",
      "metadata": {
        "id": "view-in-github",
        "colab_type": "text"
      },
      "source": [
        "<a href=\"https://colab.research.google.com/github/Kajal-ghadage2000/Deep-Learning/blob/master/Iris_Datasets_Binary_Classification.ipynb\" target=\"_parent\"><img src=\"https://colab.research.google.com/assets/colab-badge.svg\" alt=\"Open In Colab\"/></a>"
      ]
    },
    {
      "cell_type": "markdown",
      "metadata": {
        "id": "K-8iIeRFqiq4",
        "colab_type": "text"
      },
      "source": [
        "Neural Network Code From Scratch\n",
        "\n",
        "---\n",
        "\n",
        "\n",
        "\n"
      ]
    },
    {
      "cell_type": "code",
      "metadata": {
        "id": "SK5_taD7U8Om",
        "colab_type": "code",
        "colab": {}
      },
      "source": [
        "# Library \n",
        "import numpy as np"
      ],
      "execution_count": 0,
      "outputs": []
    },
    {
      "cell_type": "code",
      "metadata": {
        "id": "YIVfzUYzGPIV",
        "colab_type": "code",
        "colab": {}
      },
      "source": [
        "# Iris Dataset with two Species :  Iris-setosa(0) and Iris-versicolor(1)  \n",
        "# It has 4 features named as SepalWidthCm, SepalLengthCm, PetalLengthCm, PetalWidthCm\n",
        "\n",
        "train_x = np.array([[5.1, 3.5, 1.4, 0.2], [4.9, 3, 1.4, 0.2], [4.7, 3.2, 1.3, 0.2], [4.6, 3.1, 1.5, 0.2], [5, 3.6, 1.4, 0.2], [5.4, 3.9, 1.7, 0.4], [4.6, 3.4, 1.4,0.3], [5, 3.4, 1.5, 0.2], [4.4, 2.9, 1.4, 0.2], [4.9, 3.1, 1.5, 0.1], [5.4, 3.7, 1.5, 0.2], [7, 3.2, 4.7, 1.4], [6.4, 3.2, 4.5, 1.5], [6.9, 3.1, 4.9, 1.5], [5.5, 2.3, 4, 1.3], [6.5, 2.8, 4.6, 1.5], [5.7, 2.8, 4.5,1.3], [6.3, 3.3, 4.7, 1.6], [4.9, 2.4, 3.3, 1], [6.6, 2.9, 4.6, 1.3], [5.2, 2.7, 3.9, 1.4], [4.8, 3.4, 1.6, 0.2], [4.8, 3, 1.4, 0.1], [4.3, 3, 1.1, 0.1], [5.8, 4, 1.2, 0.2],[5.7, 4.4, 1.5, 0.4], [5.4, 3.9, 1.3, 0.4],[5.1, 3.5, 1.4, 0.3],[5.7, 3.8, 1.7, 0.3],[5.1, 3.8, 1.5, 0.3],[5, 2, 3.5, 1],[5.9, 3, 4.2, 1.5],[6, 2.2, 4, 1],[6.1, 2.9, 4.7, 1.4],[5.6, 2.9, 3.6, 1.3],[6.7, 3.1, 4.4, 1.4],[5.6, 3, 4.5, 1.5],[5.8, 2.7, 4.1, 1],[6.2, 2.2, 4.5, 1.5],[5.6, 2.5, 3.9, 1.1]])\n",
        "train_y = np.array([[0], [0], [0], [0], [0], [0], [0], [0], [0], [0], [0], [1], [1], [1], [1], [1], [1], [1], [1], [1], [1], [0], [0], [0], [0], [0], [0], [0], [0], [0],[1], [1], [1], [1], [1], [1], [1], [1], [1],[1]])\n",
        "test_x = np.array([[5.4, 3.4, 1.7, 0.2], [5.1, 3.7, 1.5, 0.4], [4.6, 3.6, 1, 0.2], [5.1, 3.3, 1.7, 0.5], [4.8, 3.4, 1.9,0.2], [5.9, 3.2, 4.8, 1.8], [6.1, 2.8, 4, 1.3], [6.3, 2.5, 4.9, 1.5], [6.1, 2.8, 4.7, 1.2], [4.8, 2.9, 4.3,1.3]])\n",
        "test_y = np.array([[0], [0], [0], [0], [0], [1], [1], [1], [1], [1]])\n",
        "\n",
        "train_x = train_x.T\n",
        "train_y = train_y.T\n",
        "test_x = test_x.T\n",
        "test_y = test_y.T"
      ],
      "execution_count": 0,
      "outputs": []
    },
    {
      "cell_type": "code",
      "metadata": {
        "id": "JlJnb3q6QT_W",
        "colab_type": "code",
        "outputId": "a0074e13-38f3-45c7-effb-7e7ab5c10cb8",
        "colab": {
          "base_uri": "https://localhost:8080/",
          "height": 85
        }
      },
      "source": [
        "print(train_x.shape)\n",
        "print(train_y.shape)\n",
        "print(test_x.shape)\n",
        "print(test_y.shape)"
      ],
      "execution_count": 0,
      "outputs": [
        {
          "output_type": "stream",
          "text": [
            "(4, 40)\n",
            "(1, 40)\n",
            "(4, 10)\n",
            "(1, 10)\n"
          ],
          "name": "stdout"
        }
      ]
    },
    {
      "cell_type": "code",
      "metadata": {
        "id": "FEY5NYBtl2u3",
        "colab_type": "code",
        "colab": {}
      },
      "source": [
        "# Sigmoid Activation function\n",
        "def sigmoid(z):\n",
        "    return 1/(1+np.exp(-z))"
      ],
      "execution_count": 0,
      "outputs": []
    },
    {
      "cell_type": "code",
      "metadata": {
        "id": "JUUt5gweUymu",
        "colab_type": "code",
        "colab": {}
      },
      "source": [
        "# initilize parameters w and b\n",
        "def init_with_zeros(input_len):\n",
        "    w1 = np.zeros((input_len, 1))\n",
        "    b1 =0\n",
        "   \n",
        "    assert(w1.shape == (input_len, 1))          #if condition get false then stop execution\n",
        "    assert(isinstance(b1, int))\n",
        "    \n",
        "    return w1, b1"
      ],
      "execution_count": 0,
      "outputs": []
    },
    {
      "cell_type": "code",
      "metadata": {
        "id": "P89i7-fkeEgc",
        "colab_type": "code",
        "colab": {}
      },
      "source": [
        "# Forward and Backward propagation\n",
        "def propagation(w, b, X, Y):\n",
        "    \n",
        "    m = X.shape[1]                        # m is no of training example \n",
        "    \n",
        "    A = sigmoid(np.matmul(w.T, X)+ b)     #activtion function          \n",
        "\n",
        "    cost = np.multiply(Y, np.log(A)) + np.multiply((1 - Y), np.log(1 - A))\n",
        "    cost = -np.sum(cost) / m\n",
        "    #print(cost)\n",
        "    \n",
        "    dw = (1/m)*(np.matmul(X, (A-Y).T))    #backward propagation\n",
        "    db = (1/m)*np.sum(A-Y)\n",
        "    \n",
        "    assert(dw.shape==w.shape)\n",
        "    assert(db.dtype==float)\n",
        "    \n",
        "    grads = {\"dw\": dw,\"db\": db}\n",
        "    \n",
        "    return grads, cost"
      ],
      "execution_count": 0,
      "outputs": []
    },
    {
      "cell_type": "code",
      "metadata": {
        "id": "J1Tzr0WooI-r",
        "colab_type": "code",
        "colab": {}
      },
      "source": [
        "# update parameters w, b, db, dw\n",
        "def optimize(w, b, X, Y, num_iterations, learning_rate, print_cost = False):\n",
        "    \n",
        "    costs = []\n",
        "    \n",
        "    for i in range(num_iterations):\n",
        "        \n",
        "        grads, cost = propagation(w, b, X, Y)\n",
        "        dw = grads[\"dw\"]\n",
        "        db = grads[\"db\"]\n",
        "        \n",
        "        w = w - learning_rate*dw\n",
        "        b = b - learning_rate*db\n",
        "        \n",
        "        if print_cost:\n",
        "          print (\"Cost after iteration %i: %f\",(i, cost))      # print cost for every iteration \n",
        "    \n",
        "    params = {\"w\": w,\"b\": b}\n",
        "    \n",
        "    grads = {\"dw\": dw,\"db\": db}\n",
        "    \n",
        "    return params, grads, costs"
      ],
      "execution_count": 0,
      "outputs": []
    },
    {
      "cell_type": "code",
      "metadata": {
        "id": "FEwo6vDYX3dE",
        "colab_type": "code",
        "outputId": "ee87fb2b-7cc3-4456-de16-5cff5ad2fc85",
        "colab": {
          "base_uri": "https://localhost:8080/",
          "height": 510
        }
      },
      "source": [
        "dim = 4\n",
        "w, b = init_with_zeros(dim)\n",
        "print (\"w = \" + str(w))\n",
        "print (\"b = \" + str(b),end=\"\\n\\n\\n\\n\\n\")\n",
        "\n",
        "grads, cost = propagation(w, b, train_x, train_y)\n",
        "print (\"dw = \" + str(grads[\"dw\"]))\n",
        "print (\"db = \" + str(grads[\"db\"]))\n",
        "print (\"cost = \" + str(cost),end=\"\\n\\n\\n\\n\\n\")\n",
        "\n",
        "params, grads, costs = optimize(w, b, train_x, train_y, num_iterations= 100, learning_rate = 0.009, print_cost = False)\n",
        "print (\"w = \" + str(params[\"w\"]))\n",
        "print (\"b = \" + str(params[\"b\"]))\n",
        "print (\"dw = \" + str(grads[\"dw\"]))\n",
        "print (\"db = \" + str(grads[\"db\"]))"
      ],
      "execution_count": 0,
      "outputs": [
        {
          "output_type": "stream",
          "text": [
            "w = [[0.]\n",
            " [0.]\n",
            " [0.]\n",
            " [0.]]\n",
            "b = 0\n",
            "\n",
            "\n",
            "\n",
            "\n",
            "dw = [[-0.235 ]\n",
            " [ 0.18  ]\n",
            " [-0.705 ]\n",
            " [-0.2725]]\n",
            "db = 0.0\n",
            "cost = 0.6931471805599453\n",
            "\n",
            "\n",
            "\n",
            "\n",
            "w = [[-0.04647842]\n",
            " [-0.25268532]\n",
            " [ 0.39851915]\n",
            " [ 0.16714914]]\n",
            "b = -0.03929098836316957\n",
            "dw = [[ 0.06407505]\n",
            " [ 0.23924234]\n",
            " [-0.34678405]\n",
            " [-0.14781467]]\n",
            "db = 0.03962213472834559\n"
          ],
          "name": "stdout"
        }
      ]
    },
    {
      "cell_type": "code",
      "metadata": {
        "id": "8535NwYjpYCs",
        "colab_type": "code",
        "colab": {}
      },
      "source": [
        "# Function to predict class of Iris\n",
        "\n",
        "def predict(w, b, X):\n",
        "    m = X.shape[1]\n",
        "    Y_prediction = np.zeros((1,m))\n",
        "    \n",
        "    A = sigmoid(np.matmul(w.T, X)+ b)\n",
        "    \n",
        "    for i in range(A.shape[1]):\n",
        "        if A[0,i]< 0.5:\n",
        "            Y_prediction[0,i] = 0\n",
        "        else: \n",
        "            Y_prediction[0,i] = 1\n",
        "    \n",
        "\n",
        "    assert(Y_prediction.shape == (1, m))\n",
        "    \n",
        "    return Y_prediction"
      ],
      "execution_count": 0,
      "outputs": []
    },
    {
      "cell_type": "code",
      "metadata": {
        "id": "SpuOACkxiZVJ",
        "colab_type": "code",
        "outputId": "98e7e99f-73f8-4bb3-c647-f6507b98ed47",
        "colab": {
          "base_uri": "https://localhost:8080/",
          "height": 51
        }
      },
      "source": [
        "# Perform testing on test_data \n",
        "print(\"predictions = \" + str(predict(np.array(params[\"w\"]), np.array(params[\"b\"]), test_x)))\n",
        "print(\"Test Set / Actual Output\",test_y)"
      ],
      "execution_count": 0,
      "outputs": [
        {
          "output_type": "stream",
          "text": [
            "predictions = [[0. 0. 0. 0. 0. 1. 1. 1. 1. 1.]]\n",
            "Test Set / Actual Output [[0 0 0 0 0 1 1 1 1 1]]\n"
          ],
          "name": "stdout"
        }
      ]
    },
    {
      "cell_type": "code",
      "metadata": {
        "id": "5i1ZHURnpY9w",
        "colab_type": "code",
        "outputId": "53b7f041-f798-46e1-f915-93788c783815",
        "colab": {
          "base_uri": "https://localhost:8080/",
          "height": 34
        }
      },
      "source": [
        "# Perform testing on new data\n",
        "\n",
        "data = np.array([[5.8, 2.7, 3.9, 1.2]]).T\n",
        "output = np.array(predict(np.array(params[\"w\"]), np.array(params[\"b\"]), data))\n",
        "\n",
        "#print(str(output))\n",
        "if(output[0,0] == float(0.)):\n",
        "    print(str(data.T) + \"   This is Iris-setosa - class 0\")\n",
        "else:\n",
        "    print(str(data.T) + \"   This is Iris-versicolor - class 1\")"
      ],
      "execution_count": 0,
      "outputs": [
        {
          "output_type": "stream",
          "text": [
            "[[5.8 2.7 3.9 1.2]]   This is Iris-versicolor - class 1\n"
          ],
          "name": "stdout"
        }
      ]
    }
  ]
}